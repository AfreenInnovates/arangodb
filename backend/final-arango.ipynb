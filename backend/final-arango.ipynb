{
 "cells": [
  {
   "cell_type": "code",
   "execution_count": null,
   "metadata": {
    "execution": {
     "iopub.execute_input": "2025-03-08T06:16:05.109502Z",
     "iopub.status.busy": "2025-03-08T06:16:05.109179Z",
     "iopub.status.idle": "2025-03-08T06:17:34.516831Z",
     "shell.execute_reply": "2025-03-08T06:17:34.516005Z",
     "shell.execute_reply.started": "2025-03-08T06:16:05.109476Z"
    },
    "scrolled": true,
    "trusted": true
   },
   "outputs": [],
   "source": [
    "!sudo apt update\n",
    "!sudo apt install nvidia-cuda-toolkit"
   ]
  },
  {
   "cell_type": "code",
   "execution_count": null,
   "metadata": {
    "execution": {
     "iopub.execute_input": "2025-03-08T06:17:34.518506Z",
     "iopub.status.busy": "2025-03-08T06:17:34.518176Z",
     "iopub.status.idle": "2025-03-08T06:17:34.641115Z",
     "shell.execute_reply": "2025-03-08T06:17:34.640105Z",
     "shell.execute_reply.started": "2025-03-08T06:17:34.518473Z"
    },
    "trusted": true
   },
   "outputs": [],
   "source": [
    "!python --version"
   ]
  },
  {
   "cell_type": "code",
   "execution_count": null,
   "metadata": {
    "execution": {
     "iopub.execute_input": "2025-03-08T06:17:34.643461Z",
     "iopub.status.busy": "2025-03-08T06:17:34.643212Z",
     "iopub.status.idle": "2025-03-08T06:22:06.100834Z",
     "shell.execute_reply": "2025-03-08T06:22:06.099665Z",
     "shell.execute_reply.started": "2025-03-08T06:17:34.643440Z"
    },
    "scrolled": true,
    "trusted": true
   },
   "outputs": [],
   "source": [
    "!git clone https://github.com/rapidsai/rapidsai-csp-utils.git\n",
    "!python rapidsai-csp-utils/colab/pip-install.py\n",
    "\n",
    "!pip install --extra-index-url=https://pypi.nvidia.com cudf-cu11 cugraph-cu11\n",
    "!pip install adbcug-adapter\n",
    "!git clone -b master --single-branch https://github.com/arangoml/cugraph-adapter.git"
   ]
  },
  {
   "cell_type": "code",
   "execution_count": null,
   "metadata": {
    "execution": {
     "iopub.execute_input": "2025-03-08T06:22:06.102637Z",
     "iopub.status.busy": "2025-03-08T06:22:06.102350Z",
     "iopub.status.idle": "2025-03-08T06:22:23.445134Z",
     "shell.execute_reply": "2025-03-08T06:22:23.444076Z",
     "shell.execute_reply.started": "2025-03-08T06:22:06.102613Z"
    },
    "scrolled": true,
    "trusted": true
   },
   "outputs": [],
   "source": [
    "!pip install python-arango # The ArangoDB Python Driver\n",
    "!pip install -U langchain-google-genai\n",
    "!pip install -U langchain langchain-community"
   ]
  },
  {
   "cell_type": "code",
   "execution_count": null,
   "metadata": {
    "execution": {
     "iopub.execute_input": "2025-03-08T06:22:23.446614Z",
     "iopub.status.busy": "2025-03-08T06:22:23.446282Z",
     "iopub.status.idle": "2025-03-08T06:22:24.174220Z",
     "shell.execute_reply": "2025-03-08T06:22:24.173483Z",
     "shell.execute_reply.started": "2025-03-08T06:22:23.446581Z"
    },
    "trusted": true
   },
   "outputs": [],
   "source": [
    "from arango import ArangoClient\n",
    "\n",
    "print(\"Connecting to ArangoDB...\")\n",
    "client = ArangoClient(hosts=\"Arango_Cloud_Deployemnt_URL\")\n",
    "db = client.db(\"db_Name\", username=\"username\", password=\"password\")\n",
    "print(\"ArangoDB version:\", db.version())"
   ]
  },
  {
   "cell_type": "code",
   "execution_count": null,
   "metadata": {
    "execution": {
     "iopub.execute_input": "2025-03-08T06:22:24.175531Z",
     "iopub.status.busy": "2025-03-08T06:22:24.175055Z",
     "iopub.status.idle": "2025-03-08T06:22:27.170847Z",
     "shell.execute_reply": "2025-03-08T06:22:27.170176Z",
     "shell.execute_reply.started": "2025-03-08T06:22:24.175499Z"
    },
    "scrolled": true,
    "trusted": true
   },
   "outputs": [],
   "source": [
    "from langchain.graphs import ArangoGraph\n",
    "\n",
    "graph = ArangoGraph(db)\n",
    "\n",
    "graph.schema"
   ]
  },
  {
   "cell_type": "code",
   "execution_count": null,
   "metadata": {
    "execution": {
     "iopub.execute_input": "2025-03-08T06:22:27.171870Z",
     "iopub.status.busy": "2025-03-08T06:22:27.171554Z",
     "iopub.status.idle": "2025-03-08T06:22:27.175743Z",
     "shell.execute_reply": "2025-03-08T06:22:27.175032Z",
     "shell.execute_reply.started": "2025-03-08T06:22:27.171849Z"
    },
    "trusted": true
   },
   "outputs": [],
   "source": [
    "import os\n",
    "os.environ[\"GOOGLE_API_KEY\"] = \"geminai_api_key\""
   ]
  },
  {
   "cell_type": "code",
   "execution_count": null,
   "metadata": {
    "execution": {
     "iopub.execute_input": "2025-03-08T06:22:27.179324Z",
     "iopub.status.busy": "2025-03-08T06:22:27.179078Z",
     "iopub.status.idle": "2025-03-08T06:22:30.367913Z",
     "shell.execute_reply": "2025-03-08T06:22:30.366923Z",
     "shell.execute_reply.started": "2025-03-08T06:22:27.179304Z"
    },
    "trusted": true
   },
   "outputs": [],
   "source": [
    "from langchain_google_genai import ChatGoogleGenerativeAI\n",
    "\n",
    "model = ChatGoogleGenerativeAI(model=\"gemini-2.0-flash\", temperature=0)"
   ]
  },
  {
   "cell_type": "code",
   "execution_count": null,
   "metadata": {
    "execution": {
     "iopub.execute_input": "2025-03-08T06:22:30.370004Z",
     "iopub.status.busy": "2025-03-08T06:22:30.369610Z",
     "iopub.status.idle": "2025-03-08T06:22:30.419595Z",
     "shell.execute_reply": "2025-03-08T06:22:30.418518Z",
     "shell.execute_reply.started": "2025-03-08T06:22:30.369954Z"
    },
    "trusted": true
   },
   "outputs": [],
   "source": [
    "from langchain.chains import ArangoGraphQAChain\n",
    "\n",
    "chain = ArangoGraphQAChain.from_llm(model, graph=graph, verbose=True, allow_dangerous_requests=True)"
   ]
  },
  {
   "cell_type": "code",
   "execution_count": null,
   "metadata": {
    "execution": {
     "iopub.execute_input": "2025-03-08T06:22:30.421073Z",
     "iopub.status.busy": "2025-03-08T06:22:30.420408Z",
     "iopub.status.idle": "2025-03-08T06:22:39.614461Z",
     "shell.execute_reply": "2025-03-08T06:22:39.613768Z",
     "shell.execute_reply.started": "2025-03-08T06:22:30.421037Z"
    },
    "trusted": true
   },
   "outputs": [],
   "source": [
    "from adbcug_adapter import ADBCUG_Adapter\n",
    "\n",
    "# Use ADBCUG_Adapter as needed\n",
    "adbcug_adapter = ADBCUG_Adapter(db)\n",
    "\n",
    "def get_controller():\n",
    "    from adbcug_adapter import ADBCUG_Controller\n",
    "    return ADBCUG_Controller()\n",
    "\n",
    "# When you need to use the controller, call get_controller()\n",
    "controller = get_controller()\n"
   ]
  },
  {
   "cell_type": "code",
   "execution_count": null,
   "metadata": {
    "execution": {
     "iopub.execute_input": "2025-03-08T06:22:39.615880Z",
     "iopub.status.busy": "2025-03-08T06:22:39.615163Z",
     "iopub.status.idle": "2025-03-08T06:22:39.620436Z",
     "shell.execute_reply": "2025-03-08T06:22:39.619754Z",
     "shell.execute_reply.started": "2025-03-08T06:22:39.615853Z"
    },
    "trusted": true
   },
   "outputs": [],
   "source": [
    "adbcug_adapter = ADBCUG_Adapter(db)"
   ]
  },
  {
   "cell_type": "code",
   "execution_count": null,
   "metadata": {
    "execution": {
     "iopub.execute_input": "2025-03-08T06:22:39.621550Z",
     "iopub.status.busy": "2025-03-08T06:22:39.621185Z",
     "iopub.status.idle": "2025-03-08T06:23:16.619488Z",
     "shell.execute_reply": "2025-03-08T06:23:16.618535Z",
     "shell.execute_reply.started": "2025-03-08T06:22:39.621514Z"
    },
    "trusted": true
   },
   "outputs": [],
   "source": [
    "import networkx as nx\n",
    "\n",
    "# Define the names of the edge collections\n",
    "EDGE_COLLECTIONS = [\"vendor_cve\", \"product_vendor\", \"product_cve\"]  # Replace with actual names\n",
    "\n",
    "# Create a directed NetworkX graph (use nx.Graph() if undirected)\n",
    "nx_g = nx.DiGraph()\n",
    "\n",
    "# Loop through each edge collection and add edges to the NetworkX graph\n",
    "for edge_collection in EDGE_COLLECTIONS:\n",
    "    aql_query = f\"FOR edge IN {edge_collection} RETURN edge\"\n",
    "    edges = list(db.aql.execute(aql_query))\n",
    "    \n",
    "    for edge in edges:\n",
    "        nx_g.add_edge(edge[\"_from\"], edge[\"_to\"])\n",
    "\n",
    "# Print NetworkX graph info\n",
    "print(nx_g)"
   ]
  },
  {
   "cell_type": "code",
   "execution_count": null,
   "metadata": {
    "execution": {
     "iopub.execute_input": "2025-03-08T06:23:16.620744Z",
     "iopub.status.busy": "2025-03-08T06:23:16.620391Z",
     "iopub.status.idle": "2025-03-08T06:23:18.023463Z",
     "shell.execute_reply": "2025-03-08T06:23:18.022422Z",
     "shell.execute_reply.started": "2025-03-08T06:23:16.620711Z"
    },
    "trusted": true
   },
   "outputs": [],
   "source": [
    "import cudf\n",
    "import cugraph\n",
    "\n",
    "# Convert NetworkX graph to pandas edgelist\n",
    "edge_list_df = nx.to_pandas_edgelist(nx_g)\n",
    "\n",
    "# Convert pandas DataFrame to cuDF DataFrame\n",
    "edge_list_cudf = cudf.DataFrame(edge_list_df)\n",
    "\n",
    "# Rename columns for cuGraph compatibility\n",
    "edge_list_cudf = edge_list_cudf.rename(columns={\"source\": \"src\", \"target\": \"dst\"})\n",
    "\n",
    "# Create cuGraph Graph\n",
    "cug_g = cugraph.Graph(directed=True)  # Change to `cugraph.Graph()` for undirected\n",
    "\n",
    "# Load edges into cuGraph from cuDF DataFrame\n",
    "cug_g.from_cudf_edgelist(edge_list_cudf, source=\"src\", destination=\"dst\")\n",
    "\n",
    "# Print cuGraph info\n",
    "print(\"cuGraph Graph created with\", cug_g.number_of_edges(), \"edges.\")\n"
   ]
  },
  {
   "cell_type": "markdown",
   "metadata": {},
   "source": [
    "# Test Queries"
   ]
  },
  {
   "cell_type": "code",
   "execution_count": null,
   "metadata": {
    "execution": {
     "iopub.execute_input": "2025-03-08T05:30:54.986249Z",
     "iopub.status.busy": "2025-03-08T05:30:54.985871Z",
     "iopub.status.idle": "2025-03-08T05:30:56.754646Z",
     "shell.execute_reply": "2025-03-08T05:30:56.753747Z",
     "shell.execute_reply.started": "2025-03-08T05:30:54.986214Z"
    },
    "scrolled": true,
    "trusted": true
   },
   "outputs": [],
   "source": [
    "chain.invoke(\"What are the top vulnerabilities?\")"
   ]
  },
  {
   "cell_type": "code",
   "execution_count": null,
   "metadata": {
    "execution": {
     "iopub.execute_input": "2025-03-08T05:30:56.756125Z",
     "iopub.status.busy": "2025-03-08T05:30:56.755749Z",
     "iopub.status.idle": "2025-03-08T05:30:57.883068Z",
     "shell.execute_reply": "2025-03-08T05:30:57.882259Z",
     "shell.execute_reply.started": "2025-03-08T05:30:56.756087Z"
    },
    "trusted": true
   },
   "outputs": [],
   "source": [
    "chain.invoke(\"List the different vendors?\")"
   ]
  },
  {
   "cell_type": "code",
   "execution_count": null,
   "metadata": {
    "execution": {
     "iopub.execute_input": "2025-03-08T05:30:57.884559Z",
     "iopub.status.busy": "2025-03-08T05:30:57.884161Z",
     "iopub.status.idle": "2025-03-08T05:31:01.545673Z",
     "shell.execute_reply": "2025-03-08T05:31:01.544673Z",
     "shell.execute_reply.started": "2025-03-08T05:30:57.884523Z"
    },
    "trusted": true
   },
   "outputs": [],
   "source": [
    "chain.invoke(\"tell me about the different product-vendor relations?\")"
   ]
  },
  {
   "cell_type": "code",
   "execution_count": null,
   "metadata": {
    "execution": {
     "iopub.execute_input": "2025-03-08T05:31:01.546978Z",
     "iopub.status.busy": "2025-03-08T05:31:01.546717Z",
     "iopub.status.idle": "2025-03-08T05:31:02.764781Z",
     "shell.execute_reply": "2025-03-08T05:31:02.763760Z",
     "shell.execute_reply.started": "2025-03-08T05:31:01.546956Z"
    },
    "trusted": true
   },
   "outputs": [],
   "source": [
    "chain.invoke(\"Fetch me the top 5 most recent CVEs in the database and their severity\")"
   ]
  },
  {
   "cell_type": "markdown",
   "metadata": {},
   "source": [
    "# Templates"
   ]
  },
  {
   "cell_type": "code",
   "execution_count": null,
   "metadata": {
    "execution": {
     "iopub.execute_input": "2025-03-08T06:23:18.024726Z",
     "iopub.status.busy": "2025-03-08T06:23:18.024395Z",
     "iopub.status.idle": "2025-03-08T06:23:18.030228Z",
     "shell.execute_reply": "2025-03-08T06:23:18.029352Z",
     "shell.execute_reply.started": "2025-03-08T06:23:18.024694Z"
    },
    "trusted": true
   },
   "outputs": [],
   "source": [
    "from langchain.prompts import PromptTemplate"
   ]
  },
  {
   "cell_type": "markdown",
   "metadata": {},
   "source": [
    "## Natural Language to AQL Template"
   ]
  },
  {
   "cell_type": "code",
   "execution_count": null,
   "metadata": {
    "execution": {
     "iopub.execute_input": "2025-03-08T06:48:31.206347Z",
     "iopub.status.busy": "2025-03-08T06:48:31.205956Z",
     "iopub.status.idle": "2025-03-08T06:48:31.211009Z",
     "shell.execute_reply": "2025-03-08T06:48:31.210102Z",
     "shell.execute_reply.started": "2025-03-08T06:48:31.206317Z"
    },
    "trusted": true
   },
   "outputs": [],
   "source": [
    "AQL_GENERATION_TEMPLATE = \"\"\"Task: Generate an ArangoDB Query Language (AQL) query from a User Input.\n",
    "\n",
    "You are an ArangoDB Query Language (AQL) expert responsible for translating a `User Input` into an ArangoDB Query Language (AQL) query.\n",
    "\n",
    "You are given an `ArangoDB Schema`. It is a JSON Object containing:\n",
    "1. `Graph Schema`: Lists all Graphs within the ArangoDB Database Instance, along with their Edge Relationships.\n",
    "2. `Collection Schema`: Lists all Collections within the ArangoDB Database Instance, along with their document/edge properties and a document/edge example.\n",
    "\n",
    "You may also be given a set of `AQL Query Examples` to help you create the `AQL Query`. If provided, the `AQL Query Examples` should be used as a reference, similar to how `ArangoDB Schema` should be used.\n",
    "\n",
    "Things you should do:\n",
    "- Think step by step.\n",
    "- Rely on `ArangoDB Schema` and `AQL Query Examples` (if provided) to generate the query.\n",
    "- Begin the `AQL Query` by the `WITH` AQL keyword to specify all of the ArangoDB Collections required.\n",
    "- Return the `AQL Query` wrapped in 3 backticks (```).\n",
    "- Use only the provided relationship types and properties in the `ArangoDB Schema` and any `AQL Query Examples` queries.\n",
    "- Only answer to requests related to generating an AQL Query.\n",
    "- If a request is unrelated to generating AQL Query, say that you cannot help the user.\n",
    "\n",
    "Things you should not do:\n",
    "- Do not use any properties/relationships that can't be inferred from the `ArangoDB Schema` or the `AQL Query Examples`.\n",
    "- Do not include any text except the generated AQL Query.\n",
    "- Do not provide explanations or apologies in your responses.\n",
    "- Do not generate an AQL Query that removes or deletes any data.\n",
    "\n",
    "Under no circumstance should you generate an AQL Query that deletes any data whatsoever.\n",
    "\n",
    "ArangoDB Schema:\n",
    "{adb_schema}\n",
    "\n",
    "AQL Query Examples (Optional):\n",
    "{aql_examples}\n",
    "\n",
    "User Input:\n",
    "{user_input}\n",
    "\n",
    "AQL Query:\n",
    "\"\"\"\n",
    "\n",
    "AQL_GENERATION_PROMPT = PromptTemplate(\n",
    "    input_variables=[\"adb_schema\", \"aql_examples\", \"user_input\"],\n",
    "    template=AQL_GENERATION_TEMPLATE,\n",
    ")"
   ]
  },
  {
   "cell_type": "markdown",
   "metadata": {},
   "source": [
    "## AQL to AQL Template"
   ]
  },
  {
   "cell_type": "code",
   "execution_count": null,
   "metadata": {
    "execution": {
     "iopub.execute_input": "2025-03-08T06:48:31.662469Z",
     "iopub.status.busy": "2025-03-08T06:48:31.662102Z",
     "iopub.status.idle": "2025-03-08T06:48:31.666919Z",
     "shell.execute_reply": "2025-03-08T06:48:31.666057Z",
     "shell.execute_reply.started": "2025-03-08T06:48:31.662441Z"
    },
    "trusted": true
   },
   "outputs": [],
   "source": [
    "AQL_FIX_TEMPLATE = \"\"\"Task: Address the ArangoDB Query Language (AQL) error message of an ArangoDB Query Language query.\n",
    "\n",
    "You are an ArangoDB Query Language (AQL) expert responsible for correcting the provided `AQL Query` based on the provided `AQL Error`.\n",
    "\n",
    "The `AQL Error` explains why the `AQL Query` could not be executed in the database.\n",
    "The `AQL Error` may also contain the position of the error relative to the total number of lines of the `AQL Query`.\n",
    "For example, 'error X at position 2:5' denotes that the error X occurs on line 2, column 5 of the `AQL Query`.\n",
    "\n",
    "You are also given the `ArangoDB Schema`. It is a JSON Object containing:\n",
    "1. `Graph Schema`: Lists all Graphs within the ArangoDB Database Instance, along with their Edge Relationships.\n",
    "2. `Collection Schema`: Lists all Collections within the ArangoDB Database Instance, along with their document/edge properties and a document/edge example.\n",
    "\n",
    "You will output the `Corrected AQL Query` wrapped in 3 backticks (```). Do not include any text except the Corrected AQL Query.\n",
    "\n",
    "Remember to think step by step.\n",
    "\n",
    "ArangoDB Schema:\n",
    "{adb_schema}\n",
    "\n",
    "AQL Query:\n",
    "{aql_query}\n",
    "\n",
    "AQL Error:\n",
    "{aql_error}\n",
    "\n",
    "Corrected AQL Query:\n",
    "\"\"\"\n",
    "\n",
    "AQL_FIX_PROMPT = PromptTemplate(\n",
    "    input_variables=[\"adb_schema\", \"aql_query\", \"aql_error\"],\n",
    "    template=AQL_FIX_TEMPLATE,\n",
    ")"
   ]
  },
  {
   "cell_type": "markdown",
   "metadata": {},
   "source": [
    "## JSON to Natural Language Template"
   ]
  },
  {
   "cell_type": "code",
   "execution_count": null,
   "metadata": {
    "execution": {
     "iopub.execute_input": "2025-03-08T06:48:33.767713Z",
     "iopub.status.busy": "2025-03-08T06:48:33.767425Z",
     "iopub.status.idle": "2025-03-08T06:48:33.772114Z",
     "shell.execute_reply": "2025-03-08T06:48:33.771265Z",
     "shell.execute_reply.started": "2025-03-08T06:48:33.767692Z"
    },
    "trusted": true
   },
   "outputs": [],
   "source": [
    "AQL_QA_TEMPLATE = \"\"\"Task: Generate a natural language `Summary` from the results of an ArangoDB Query Language query.\n",
    "\n",
    "You are an ArangoDB Query Language (AQL) expert responsible for creating a well-written `Summary` from the `User Input` and associated `AQL Result`.\n",
    "\n",
    "A user has executed an ArangoDB Query Language query, which has returned the AQL Result in JSON format.\n",
    "You are responsible for creating an `Summary` based on the AQL Result.\n",
    "\n",
    "You are given the following information:\n",
    "- `ArangoDB Schema`: contains a schema representation of the user's ArangoDB Database.\n",
    "- `User Input`: the original question/request of the user, which has been translated into an AQL Query.\n",
    "- `AQL Query`: the AQL equivalent of the `User Input`, translated by another AI Model. Should you deem it to be incorrect, suggest a different AQL Query.\n",
    "- `AQL Result`: the JSON output returned by executing the `AQL Query` within the ArangoDB Database.\n",
    "\n",
    "Remember to think step by step.\n",
    "\n",
    "Your `Summary` should sound like it is a response to the `User Input`.\n",
    "Your `Summary` should not include any mention of the `AQL Query` or the `AQL Result`.\n",
    "\n",
    "ArangoDB Schema:\n",
    "{adb_schema}\n",
    "\n",
    "User Input:\n",
    "{user_input}\n",
    "\n",
    "AQL Query:\n",
    "{aql_query}\n",
    "\n",
    "AQL Result:\n",
    "{aql_result}\n",
    "\"\"\"\n",
    "\n",
    "AQL_QA_PROMPT = PromptTemplate(\n",
    "    input_variables=[\"adb_schema\", \"user_input\", \"aql_query\", \"aql_result\"],\n",
    "    template=AQL_QA_TEMPLATE,\n",
    ")"
   ]
  },
  {
   "cell_type": "code",
   "execution_count": null,
   "metadata": {
    "execution": {
     "iopub.execute_input": "2025-03-08T06:41:39.513358Z",
     "iopub.status.busy": "2025-03-08T06:41:39.512983Z",
     "iopub.status.idle": "2025-03-08T06:41:39.517392Z",
     "shell.execute_reply": "2025-03-08T06:41:39.516429Z",
     "shell.execute_reply.started": "2025-03-08T06:41:39.513324Z"
    },
    "trusted": true
   },
   "outputs": [],
   "source": [
    "# Define the AQL query examples as a string with separate examples\n",
    "aql_examples = \"\"\"\n",
    "Example 1:\n",
    "WITH vendor, cve, vendor_cve\n",
    "\n",
    "LET vendorPageRank = (\n",
    "  FOR v IN vendor\n",
    "  LET pageRank = (\n",
    "    FOR vc IN vendor_cve\n",
    "      FILTER vc._from == v._id\n",
    "      COLLECT AGGREGATE count = COUNT(vc)\n",
    "      RETURN count\n",
    "  )[0]\n",
    "  RETURN {vendor: v, pageRank: pageRank}\n",
    ")\n",
    "\n",
    "LET topVendors = (\n",
    "  FOR item IN vendorPageRank\n",
    "  SORT item.pageRank DESC\n",
    "  LIMIT 5\n",
    "  RETURN item.vendor\n",
    ")\n",
    "\n",
    "FOR vendor IN topVendors\n",
    "  LET relatedCVEs = (\n",
    "    FOR v, e, p IN 1..1 OUTBOUND vendor vendor_cve\n",
    "    LIMIT 3\n",
    "    RETURN v\n",
    "  )\n",
    "  RETURN {\n",
    "    vendor: vendor,\n",
    "    relatedCVEs: relatedCVEs\n",
    "  }\n",
    "\n",
    "Example 2:\n",
    "WITH product, cve, product_cve\n",
    "\n",
    "LET productVulnerabilityCounts = (\n",
    "  FOR p IN product\n",
    "  LET vulnerabilityCount = (\n",
    "    FOR pc IN product_cve\n",
    "    FILTER pc._from == p._id\n",
    "    COLLECT AGGREGATE count = COUNT(pc)\n",
    "    RETURN count\n",
    "  )[0]\n",
    "  RETURN { product: p, vulnerabilityCount: vulnerabilityCount }\n",
    ")\n",
    "\n",
    "LET topProducts = (\n",
    "  FOR item IN productVulnerabilityCounts\n",
    "  SORT item.vulnerabilityCount DESC\n",
    "  LIMIT 5\n",
    "  RETURN item.product\n",
    ")\n",
    "\n",
    "FOR prod IN topProducts\n",
    "  LET relatedCVEs = (\n",
    "    FOR p, e, v IN 1..1 OUTBOUND prod product_cve\n",
    "    LIMIT 3  // Limit to 3 related CVEs per product to reduce result size\n",
    "    RETURN v\n",
    "  )\n",
    "  RETURN {\n",
    "    product: prod,\n",
    "    relatedCVEs: relatedCVEs\n",
    "  }\n",
    "\n",
    "Example 3:\n",
    "WITH vendor, cve, vendor_cve\n",
    "\n",
    "LET vendorVulnerabilityCounts = (\n",
    "  FOR v IN vendor\n",
    "  LET vulnerabilityCount = (\n",
    "    FOR vc IN vendor_cve\n",
    "    FILTER vc._from == v._id\n",
    "    COLLECT AGGREGATE count = COUNT(vc)\n",
    "    RETURN count\n",
    "  )[0]\n",
    "  RETURN { vendor: v, vulnerabilityCount: vulnerabilityCount }\n",
    ")\n",
    "\n",
    "LET topVendors = (\n",
    "  FOR item IN vendorVulnerabilityCounts\n",
    "  SORT item.vulnerabilityCount DESC\n",
    "  LIMIT 5  // Limit to top 5 vendors\n",
    "  RETURN item.vendor\n",
    ")\n",
    "\n",
    "FOR vendor IN topVendors\n",
    "  LET relatedCVEs = (\n",
    "    FOR v, e, cv IN 1..1 OUTBOUND vendor vendor_cve\n",
    "    LIMIT 3  // Limit to 3 related CVEs per vendor\n",
    "    RETURN cv\n",
    "  )\n",
    "  RETURN {\n",
    "    vendor: vendor,\n",
    "    relatedCVEs: relatedCVEs\n",
    "  }\n",
    "\"\"\""
   ]
  },
  {
   "cell_type": "code",
   "execution_count": null,
   "metadata": {
    "execution": {
     "iopub.execute_input": "2025-03-08T06:48:36.519232Z",
     "iopub.status.busy": "2025-03-08T06:48:36.518740Z",
     "iopub.status.idle": "2025-03-08T06:48:36.524137Z",
     "shell.execute_reply": "2025-03-08T06:48:36.523324Z",
     "shell.execute_reply.started": "2025-03-08T06:48:36.519161Z"
    },
    "trusted": true
   },
   "outputs": [],
   "source": [
    "better_chain = ArangoGraphQAChain.from_llm(\n",
    "    model,\n",
    "    aql_generation_prompt=AQL_GENERATION_PROMPT,  # No change from original\n",
    "    aql_fix_prompt=AQL_FIX_PROMPT,  # No change from original\n",
    "    qa_prompt=AQL_QA_PROMPT,  # Use this prompt with examples\n",
    "    graph=graph,\n",
    "    verbose=True,\n",
    "    allow_dangerous_requests=True,\n",
    ")"
   ]
  },
  {
   "cell_type": "code",
   "execution_count": null,
   "metadata": {
    "execution": {
     "iopub.execute_input": "2025-03-08T06:48:38.853612Z",
     "iopub.status.busy": "2025-03-08T06:48:38.853290Z",
     "iopub.status.idle": "2025-03-08T06:48:40.615658Z",
     "shell.execute_reply": "2025-03-08T06:48:40.614969Z",
     "shell.execute_reply.started": "2025-03-08T06:48:38.853589Z"
    },
    "trusted": true
   },
   "outputs": [],
   "source": [
    "better_chain.invoke(\"Fetch me the top 5 most recent CVEs in the database and their severity\")"
   ]
  },
  {
   "cell_type": "code",
   "execution_count": null,
   "metadata": {
    "execution": {
     "iopub.execute_input": "2025-03-08T06:25:59.003158Z",
     "iopub.status.busy": "2025-03-08T06:25:59.002845Z",
     "iopub.status.idle": "2025-03-08T06:25:59.011305Z",
     "shell.execute_reply": "2025-03-08T06:25:59.010303Z",
     "shell.execute_reply.started": "2025-03-08T06:25:59.003134Z"
    },
    "trusted": true
   },
   "outputs": [],
   "source": [
    "from langchain.agents import AgentType, initialize_agent\n",
    "from langchain.tools import Tool\n",
    "\n",
    "def query_arangodb(query: str):\n",
    "    \"\"\"Executes a query on the ArangoDB database and returns results.\"\"\"\n",
    "    return better_chain.invoke({\"query\": query})  # Assuming better_chain is set up for querying\n",
    "\n",
    "arangodb_tool = Tool(\n",
    "    name=\"ArangoDB Query\",\n",
    "    func=query_arangodb,\n",
    "    description=\"Use this tool to query the ArangoDB database for CVE-related insights.\"\n",
    ")\n",
    "\n",
    "# Define cuGraph Analysis Function\n",
    "def run_cugraph_analysis(task: str):\n",
    "    \"\"\"Executes graph analysis using cuGraph, such as PageRank or shortest path.\"\"\"\n",
    "    if task.lower() == \"pagerank\":\n",
    "        return \"Running PageRank algorithm on the CVE graph... (Results here)\"\n",
    "    elif task.lower() == \"shortest path\":\n",
    "        return \"Computing shortest path in the CVE graph... (Results here)\"\n",
    "    else:\n",
    "        return \"Unsupported task. Available tasks: PageRank, Shortest Path.\"\n",
    "\n",
    "cugraph_tool = Tool(\n",
    "    name=\"cuGraph Analysis\",\n",
    "    func=run_cugraph_analysis,\n",
    "    description=\"Use this tool to perform graph analysis like PageRank or Shortest Path on the CVE dataset.\"\n",
    ")\n",
    "\n",
    "def hybrid_query_execution(user_query):\n",
    "    \"\"\"\n",
    "    Executes a hybrid query combining the BetterChain AQL traversal with cuGraph analytics for contextual responses.\n",
    "    \"\"\"\n",
    "    # Step 1: Execute AQL query using BetterChain\n",
    "    aql_results = better_chain.run(user_query)  # Uses BetterChain for optimized AQL execution\n",
    "\n",
    "    if not aql_results:\n",
    "        return \"No relevant data found in the CVE graph.\"\n",
    "\n",
    "    # Step 2: Run PageRank on existing cuGraph graph (cug_g)\n",
    "    pagerank_df = cugraph.pagerank(cug_g)\n",
    "    top_connections = pagerank_df.sort_values('pagerank', ascending=False).head(5)  # Get top 5\n",
    "\n",
    "    # Step 3: Generate Dynamic Response using the Agent's LLM\n",
    "    HYBRID_QUERY_PROMPT_TEMPLATE = \"\"\"\n",
    "You are an AI assistant specializing in cybersecurity and graph analysis. Based on the provided structured data, generate a concise, informative, and well-structured response.\n",
    "\n",
    "### **Context:**\n",
    "You have received a query regarding cybersecurity vulnerabilities, vendors, or products. The system has executed:\n",
    "1. **AQL Query (BetterChain)**: Extracted relevant data from the ArangoDB CVE graph.\n",
    "2. **Graph Analytics (cuGraph/PageRank)**: Ranked vendors based on influence and severity.\n",
    "\n",
    "### **Results:**\n",
    "{graph_analysis_results}\n",
    "\n",
    "### **Instructions:**\n",
    "- Present key findings in **natural language**.\n",
    "- Prioritize critical insights (e.g., highest PageRank scores, severe CVEs).\n",
    "- If applicable, mention specific **vendors, products, or CVEs** and their relevance.\n",
    "- Keep responses **concise, factual, and structured**.\n",
    "\n",
    "Now, generate the best possible response based on the available data.\n",
    "\"\"\"\n",
    "    prompt = PromptTemplate(\n",
    "        input_variables=[\"graph_analysis_results\"],\n",
    "        template=HYBRID_QUERY_PROMPT_TEMPLATE\n",
    "    )\n",
    "    response = model.invoke(prompt.format(graph_analysis_results=top_connections.to_dict()))\n",
    "\n",
    "    return response\n",
    "\n",
    "\n",
    "\n",
    "# Define as a tool for agent\n",
    "hybrid_query_tool = Tool(\n",
    "    name=\"Hybrid Graph Query\",\n",
    "    description=\"Combines ArangoDB AQL and cuGraph analytics to generate natural language insights.\",\n",
    "    func=hybrid_query_execution\n",
    ")\n",
    "\n",
    "# Initialize the agent\n",
    "agent = initialize_agent(\n",
    "    tools=[arangodb_tool, cugraph_tool, hybrid_query_tool],\n",
    "    llm=model,\n",
    "    agent=AgentType.ZERO_SHOT_REACT_DESCRIPTION,\n",
    "    verbose=True,\n",
    "    handle_parsing_errors=True\n",
    ")"
   ]
  },
  {
   "cell_type": "markdown",
   "metadata": {},
   "source": [
    "## Simple Query (AQL)"
   ]
  },
  {
   "cell_type": "code",
   "execution_count": null,
   "metadata": {
    "execution": {
     "iopub.execute_input": "2025-03-08T05:31:09.132136Z",
     "iopub.status.busy": "2025-03-08T05:31:09.131448Z",
     "iopub.status.idle": "2025-03-08T05:31:13.369811Z",
     "shell.execute_reply": "2025-03-08T05:31:13.368697Z",
     "shell.execute_reply.started": "2025-03-08T05:31:09.132110Z"
    },
    "trusted": true
   },
   "outputs": [],
   "source": [
    "response = agent.run(\"Retrieve the top 5 vendors with the highest number of associated CVEs using AQL.\")\n",
    "print(response)"
   ]
  },
  {
   "cell_type": "code",
   "execution_count": null,
   "metadata": {
    "execution": {
     "iopub.execute_input": "2025-03-08T05:33:24.798644Z",
     "iopub.status.busy": "2025-03-08T05:33:24.798138Z",
     "iopub.status.idle": "2025-03-08T05:34:13.282367Z",
     "shell.execute_reply": "2025-03-08T05:34:13.281292Z",
     "shell.execute_reply.started": "2025-03-08T05:33:24.798609Z"
    },
    "scrolled": true,
    "trusted": true
   },
   "outputs": [],
   "source": [
    "response = agent.run(\"Find all products associated with a specific vendor using AQL.\")\n",
    "print(response)"
   ]
  },
  {
   "cell_type": "code",
   "execution_count": null,
   "metadata": {
    "execution": {
     "iopub.execute_input": "2025-03-08T06:54:28.694390Z",
     "iopub.status.busy": "2025-03-08T06:54:28.694062Z",
     "iopub.status.idle": "2025-03-08T06:54:36.233329Z",
     "shell.execute_reply": "2025-03-08T06:54:36.232439Z",
     "shell.execute_reply.started": "2025-03-08T06:54:28.694367Z"
    },
    "scrolled": true,
    "trusted": true
   },
   "outputs": [],
   "source": [
    "response = agent.run(\"List the vendors that have more than 10 associated CVEs using AQL.\")\n",
    "print(response)"
   ]
  },
  {
   "cell_type": "markdown",
   "metadata": {},
   "source": [
    "## Complex Query (cuGraph)"
   ]
  },
  {
   "cell_type": "code",
   "execution_count": null,
   "metadata": {
    "execution": {
     "iopub.execute_input": "2025-03-08T05:39:12.852140Z",
     "iopub.status.busy": "2025-03-08T05:39:12.851782Z",
     "iopub.status.idle": "2025-03-08T05:39:32.175305Z",
     "shell.execute_reply": "2025-03-08T05:39:32.174430Z",
     "shell.execute_reply.started": "2025-03-08T05:39:12.852110Z"
    },
    "scrolled": true,
    "trusted": true
   },
   "outputs": [],
   "source": [
    "response = agent.run(\"Identify the most central CVEs in the vulnerability network using betweenness centrality with cuGraph.\")\n",
    "print(response)"
   ]
  },
  {
   "cell_type": "code",
   "execution_count": null,
   "metadata": {
    "execution": {
     "iopub.execute_input": "2025-03-08T05:39:45.530902Z",
     "iopub.status.busy": "2025-03-08T05:39:45.530513Z",
     "iopub.status.idle": "2025-03-08T05:40:06.943994Z",
     "shell.execute_reply": "2025-03-08T05:40:06.943143Z",
     "shell.execute_reply.started": "2025-03-08T05:39:45.530870Z"
    },
    "trusted": true
   },
   "outputs": [],
   "source": [
    "response = agent.run(\"Determine the most vulnerable vendors using eigenvector centrality in the vendor-CVE graph with cuGraph.\")\n",
    "print(response)"
   ]
  },
  {
   "cell_type": "markdown",
   "metadata": {},
   "source": [
    "## Hybrid Query (AQL + cuGraph)"
   ]
  },
  {
   "cell_type": "code",
   "execution_count": null,
   "metadata": {
    "execution": {
     "iopub.execute_input": "2025-03-08T05:42:15.737451Z",
     "iopub.status.busy": "2025-03-08T05:42:15.737013Z",
     "iopub.status.idle": "2025-03-08T05:42:45.302495Z",
     "shell.execute_reply": "2025-03-08T05:42:45.301331Z",
     "shell.execute_reply.started": "2025-03-08T05:42:15.737415Z"
    },
    "trusted": true
   },
   "outputs": [],
   "source": [
    "response = agent.run(\"Find the most influential vendors based on their connected CVEs using PageRank and summarize their impact.\")\n",
    "print(response)"
   ]
  }
 ],
 "metadata": {
  "kaggle": {
   "accelerator": "none",
   "dataSources": [],
   "dockerImageVersionId": 30919,
   "isGpuEnabled": false,
   "isInternetEnabled": true,
   "language": "python",
   "sourceType": "notebook"
  },
  "kernelspec": {
   "display_name": "Python 3",
   "language": "python",
   "name": "python3"
  },
  "language_info": {
   "codemirror_mode": {
    "name": "ipython",
    "version": 3
   },
   "file_extension": ".py",
   "mimetype": "text/x-python",
   "name": "python",
   "nbconvert_exporter": "python",
   "pygments_lexer": "ipython3",
   "version": "3.10.12"
  }
 },
 "nbformat": 4,
 "nbformat_minor": 4
}
